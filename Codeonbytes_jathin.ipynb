{
  "nbformat": 4,
  "nbformat_minor": 0,
  "metadata": {
    "colab": {
      "provenance": []
    },
    "kernelspec": {
      "name": "python3",
      "display_name": "Python 3"
    },
    "language_info": {
      "name": "python"
    }
  },
  "cells": [
    {
      "cell_type": "code",
      "execution_count": null,
      "metadata": {
        "id": "av32L_hDVkef"
      },
      "outputs": [],
      "source": [
        "# importing the required modules\n",
        "\n",
        "import glob\n",
        "\n",
        "import pandas as pd\n",
        "\n",
        "\n",
        "# specifying the path to csv files\n",
        "\n",
        "path = \"csvfoldergfg\"\n",
        "\n",
        "\n",
        "# csv files in the path\n",
        "\n",
        "files = glob.glob(path + \"/*.csv\")\n",
        "\n",
        "\n",
        "# defining an empty list to store\n",
        "# content\n",
        "\n",
        "data_frame = pd.DataFrame()\n",
        "\n",
        "content = []\n",
        "\n",
        "\n",
        "# checking all the csv files in the\n",
        "# specified path\n",
        "\n",
        "for filename in files:\n",
        "\n",
        "\n",
        "\n",
        "    # reading content of csv file\n",
        "\n",
        "    # content.append(filename)\n",
        "\n",
        "    df = pd.read_csv(filename, index_col=None)\n",
        "\n",
        "    content.append(df)\n",
        "\n",
        "\n",
        "# converting content to data frame\n",
        "\n",
        "data_frame = pd.concat(content)\n",
        "\n",
        "print(data_frame)"
      ]
    }
  ]
}